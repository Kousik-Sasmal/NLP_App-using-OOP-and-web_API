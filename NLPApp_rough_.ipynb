{
 "cells": [
  {
   "cell_type": "code",
   "execution_count": 1,
   "metadata": {
    "colab": {
     "base_uri": "https://localhost:8080/"
    },
    "id": "A1VJLV00_zGC",
    "outputId": "b8b2f487-abc3-42f9-abcd-031bfe056b43"
   },
   "outputs": [
    {
     "name": "stdout",
     "output_type": "stream",
     "text": [
      "Collecting paralleldots\n",
      "  Using cached ParallelDots-3.2.14-py3-none-any.whl (9.4 kB)\n",
      "Requirement already satisfied: requests in /home/kousik/anaconda3/lib/python3.9/site-packages (from paralleldots) (2.28.1)\n",
      "Requirement already satisfied: certifi>=2017.4.17 in /home/kousik/anaconda3/lib/python3.9/site-packages (from requests->paralleldots) (2022.12.7)\n",
      "Requirement already satisfied: urllib3<1.27,>=1.21.1 in /home/kousik/anaconda3/lib/python3.9/site-packages (from requests->paralleldots) (1.26.14)\n",
      "Requirement already satisfied: charset-normalizer<3,>=2 in /home/kousik/anaconda3/lib/python3.9/site-packages (from requests->paralleldots) (2.0.4)\n",
      "Requirement already satisfied: idna<4,>=2.5 in /home/kousik/anaconda3/lib/python3.9/site-packages (from requests->paralleldots) (3.4)\n",
      "Installing collected packages: paralleldots\n",
      "Successfully installed paralleldots-3.2.14\n"
     ]
    }
   ],
   "source": [
    "!pip install paralleldots\n",
    "\n",
    "# https://komprehend.io/api-wrappers"
   ]
  },
  {
   "cell_type": "code",
   "execution_count": 3,
   "metadata": {
    "colab": {
     "base_uri": "https://localhost:8080/",
     "height": 246
    },
    "id": "tqYSOqCUsXr4",
    "outputId": "761f3a9a-dcf1-4dd0-9e58-d31c9bd5c1ca"
   },
   "outputs": [],
   "source": [
    "import paralleldots\n",
    "\n",
    "# Setting the API key\n",
    "paralleldots.set_api_key('9jshsaRrZSJnQYfy7uZrBG7s2cz5XjjU3n5vZp6uB7I')\n"
   ]
  },
  {
   "cell_type": "code",
   "execution_count": 4,
   "metadata": {},
   "outputs": [],
   "source": [
    "ner_response = paralleldots.ner(\"Mark Zuckerberg is one of the founders of Facebook, a company from the United States\")"
   ]
  },
  {
   "cell_type": "code",
   "execution_count": null,
   "metadata": {},
   "outputs": [],
   "source": []
  },
  {
   "cell_type": "markdown",
   "metadata": {},
   "source": [
    "### Named Entity Recognition"
   ]
  },
  {
   "cell_type": "code",
   "execution_count": 5,
   "metadata": {},
   "outputs": [
    {
     "data": {
      "text/plain": [
       "[{'name': 'Mark Zuckerberg',\n",
       "  'category': 'name',\n",
       "  'confidence_score': 0.900172174},\n",
       " {'name': 'Facebook', 'category': 'group', 'confidence_score': 0.7545896769},\n",
       " {'name': 'United States',\n",
       "  'category': 'place',\n",
       "  'confidence_score': 0.8546216488}]"
      ]
     },
     "execution_count": 5,
     "metadata": {},
     "output_type": "execute_result"
    }
   ],
   "source": [
    "ner_response['entities']"
   ]
  },
  {
   "cell_type": "code",
   "execution_count": 6,
   "metadata": {},
   "outputs": [
    {
     "name": "stdout",
     "output_type": "stream",
     "text": [
      "{'name': 'Mark Zuckerberg', 'category': 'name', 'confidence_score': 0.900172174}\n",
      "{'name': 'Facebook', 'category': 'group', 'confidence_score': 0.7545896769}\n",
      "{'name': 'United States', 'category': 'place', 'confidence_score': 0.8546216488}\n"
     ]
    }
   ],
   "source": [
    "for i in ner_response['entities']:\n",
    "    print(i)"
   ]
  },
  {
   "cell_type": "code",
   "execution_count": 7,
   "metadata": {},
   "outputs": [
    {
     "name": "stdout",
     "output_type": "stream",
     "text": [
      "Mark Zuckerberg --> name\n",
      "Facebook --> group\n",
      "United States --> place\n"
     ]
    }
   ],
   "source": [
    "for i in ner_response['entities']:\n",
    "    print(i['name'],'-->',i['category'])"
   ]
  },
  {
   "cell_type": "code",
   "execution_count": 8,
   "metadata": {},
   "outputs": [
    {
     "name": "stdout",
     "output_type": "stream",
     "text": [
      " 'Mark Zuckerberg' is a name \n",
      " 'Facebook' is a group \n",
      " 'United States' is a place \n"
     ]
    }
   ],
   "source": [
    "for i in ner_response['entities']:\n",
    "    print(\" '{}' is a {} \".format(i['name'],i['category']))"
   ]
  },
  {
   "cell_type": "code",
   "execution_count": null,
   "metadata": {},
   "outputs": [],
   "source": []
  },
  {
   "cell_type": "code",
   "execution_count": null,
   "metadata": {},
   "outputs": [],
   "source": []
  },
  {
   "cell_type": "code",
   "execution_count": null,
   "metadata": {},
   "outputs": [],
   "source": []
  },
  {
   "cell_type": "markdown",
   "metadata": {},
   "source": [
    "### How to use `enumerate` function"
   ]
  },
  {
   "cell_type": "code",
   "execution_count": 9,
   "metadata": {},
   "outputs": [],
   "source": [
    "d = {'scored_labels': [{'label': 'sadness', 'score': 0.98093181848526}, {'label': 'joy', 'score': 0.001407247269526124}, {'label': 'love', 'score': 0.0004157320945523679}, {'label': 'anger', 'score': 0.01649504341185093}, {'label': 'fear', 'score': 0.00039679379551671445}, {'label': 'surprise', 'score': 0.00035347335506230593}]}"
   ]
  },
  {
   "cell_type": "code",
   "execution_count": 10,
   "metadata": {},
   "outputs": [
    {
     "data": {
      "text/plain": [
       "{'scored_labels': [{'label': 'sadness', 'score': 0.98093181848526},\n",
       "  {'label': 'joy', 'score': 0.001407247269526124},\n",
       "  {'label': 'love', 'score': 0.0004157320945523679},\n",
       "  {'label': 'anger', 'score': 0.01649504341185093},\n",
       "  {'label': 'fear', 'score': 0.00039679379551671445},\n",
       "  {'label': 'surprise', 'score': 0.00035347335506230593}]}"
      ]
     },
     "execution_count": 10,
     "metadata": {},
     "output_type": "execute_result"
    }
   ],
   "source": [
    "d"
   ]
  },
  {
   "cell_type": "code",
   "execution_count": 11,
   "metadata": {},
   "outputs": [
    {
     "data": {
      "text/plain": [
       "[{'label': 'sadness', 'score': 0.98093181848526},\n",
       " {'label': 'joy', 'score': 0.001407247269526124},\n",
       " {'label': 'love', 'score': 0.0004157320945523679},\n",
       " {'label': 'anger', 'score': 0.01649504341185093},\n",
       " {'label': 'fear', 'score': 0.00039679379551671445},\n",
       " {'label': 'surprise', 'score': 0.00035347335506230593}]"
      ]
     },
     "execution_count": 11,
     "metadata": {},
     "output_type": "execute_result"
    }
   ],
   "source": [
    "d['scored_labels']"
   ]
  },
  {
   "cell_type": "code",
   "execution_count": 12,
   "metadata": {},
   "outputs": [
    {
     "name": "stdout",
     "output_type": "stream",
     "text": [
      "0.98093181848526\n",
      "0.001407247269526124\n",
      "0.0004157320945523679\n",
      "0.01649504341185093\n",
      "0.00039679379551671445\n",
      "0.00035347335506230593\n"
     ]
    }
   ],
   "source": [
    "for i in d['scored_labels']:\n",
    "    print(i['score'])"
   ]
  },
  {
   "cell_type": "code",
   "execution_count": 13,
   "metadata": {},
   "outputs": [
    {
     "name": "stdout",
     "output_type": "stream",
     "text": [
      "[0.98093181848526, 0.001407247269526124, 0.0004157320945523679, 0.01649504341185093, 0.00039679379551671445, 0.00035347335506230593]\n"
     ]
    },
    {
     "data": {
      "text/plain": [
       "[0.98093181848526,\n",
       " 0.001407247269526124,\n",
       " 0.0004157320945523679,\n",
       " 0.01649504341185093,\n",
       " 0.00039679379551671445,\n",
       " 0.00035347335506230593]"
      ]
     },
     "execution_count": 13,
     "metadata": {},
     "output_type": "execute_result"
    }
   ],
   "source": [
    "L = []\n",
    "for i in d['scored_labels']:\n",
    "    L.append(i['score'])\n",
    "print(L)\n",
    "L"
   ]
  },
  {
   "cell_type": "code",
   "execution_count": 14,
   "metadata": {},
   "outputs": [
    {
     "name": "stdout",
     "output_type": "stream",
     "text": [
      "<enumerate object at 0x7f0f94beb9c0>\n"
     ]
    }
   ],
   "source": [
    "print(enumerate(L))"
   ]
  },
  {
   "cell_type": "code",
   "execution_count": 15,
   "metadata": {},
   "outputs": [
    {
     "data": {
      "text/plain": [
       "[(0, 0.98093181848526),\n",
       " (1, 0.001407247269526124),\n",
       " (2, 0.0004157320945523679),\n",
       " (3, 0.01649504341185093),\n",
       " (4, 0.00039679379551671445),\n",
       " (5, 0.00035347335506230593)]"
      ]
     },
     "execution_count": 15,
     "metadata": {},
     "output_type": "execute_result"
    }
   ],
   "source": [
    "list(enumerate(L))"
   ]
  },
  {
   "cell_type": "code",
   "execution_count": 16,
   "metadata": {},
   "outputs": [
    {
     "data": {
      "text/plain": [
       "[(5, 0.00035347335506230593),\n",
       " (4, 0.00039679379551671445),\n",
       " (2, 0.0004157320945523679),\n",
       " (1, 0.001407247269526124),\n",
       " (3, 0.01649504341185093),\n",
       " (0, 0.98093181848526)]"
      ]
     },
     "execution_count": 16,
     "metadata": {},
     "output_type": "execute_result"
    }
   ],
   "source": [
    "sorted(list(enumerate(L)),key=lambda x:x[1])"
   ]
  },
  {
   "cell_type": "code",
   "execution_count": 17,
   "metadata": {},
   "outputs": [
    {
     "data": {
      "text/plain": [
       "[(0, 0.98093181848526),\n",
       " (3, 0.01649504341185093),\n",
       " (1, 0.001407247269526124),\n",
       " (2, 0.0004157320945523679),\n",
       " (4, 0.00039679379551671445),\n",
       " (5, 0.00035347335506230593)]"
      ]
     },
     "execution_count": 17,
     "metadata": {},
     "output_type": "execute_result"
    }
   ],
   "source": [
    "sorted(list(enumerate(L)),key=lambda x:x[1],reverse=True)"
   ]
  },
  {
   "cell_type": "code",
   "execution_count": null,
   "metadata": {},
   "outputs": [],
   "source": []
  },
  {
   "cell_type": "code",
   "execution_count": 18,
   "metadata": {
    "colab": {
     "base_uri": "https://localhost:8080/",
     "height": 491
    },
    "id": "5C9kvkPAhoO1",
    "outputId": "31acc0b6-b0e8-49af-8941-a5eb9b16b6b5"
   },
   "outputs": [
    {
     "name": "stdout",
     "output_type": "stream",
     "text": [
      "[(0, 0.98093181848526), (1, 0.001407247269526124), (2, 0.0004157320945523679), (3, 0.01649504341185093), (4, 0.00039679379551671445), (5, 0.00035347335506230593)]\n"
     ]
    }
   ],
   "source": [
    "L = []\n",
    "for i in d['scored_labels']:\n",
    "    L.append(i['score'])\n",
    "\n",
    "print(list(enumerate(L)))\n",
    "      \n",
    "index = sorted(list(enumerate(L)),key=lambda x:x[1],reverse=True)[0][0]"
   ]
  },
  {
   "cell_type": "code",
   "execution_count": 19,
   "metadata": {
    "colab": {
     "base_uri": "https://localhost:8080/",
     "height": 454
    },
    "id": "mqOaplj97cTT",
    "outputId": "17f5f384-f61e-4ec6-9ed2-856b996963f7"
   },
   "outputs": [
    {
     "data": {
      "text/plain": [
       "0"
      ]
     },
     "execution_count": 19,
     "metadata": {},
     "output_type": "execute_result"
    }
   ],
   "source": [
    "index"
   ]
  },
  {
   "cell_type": "code",
   "execution_count": null,
   "metadata": {},
   "outputs": [],
   "source": []
  },
  {
   "cell_type": "code",
   "execution_count": null,
   "metadata": {},
   "outputs": [],
   "source": []
  },
  {
   "cell_type": "markdown",
   "metadata": {},
   "source": [
    "### Sentiment Analysis"
   ]
  },
  {
   "cell_type": "code",
   "execution_count": 20,
   "metadata": {
    "id": "j3KFqS8__5xD"
   },
   "outputs": [],
   "source": [
    "para = 'I will see what can I do, if you do not listen me.'\n",
    "\n",
    "sent_response = paralleldots.sentiment(para)"
   ]
  },
  {
   "cell_type": "code",
   "execution_count": 21,
   "metadata": {
    "id": "k9zEhUQG_5cD"
   },
   "outputs": [
    {
     "data": {
      "text/plain": [
       "{'sentiment': {'negative': 0.436, 'neutral': 0.492, 'positive': 0.072}}"
      ]
     },
     "execution_count": 21,
     "metadata": {},
     "output_type": "execute_result"
    }
   ],
   "source": [
    "sent_response"
   ]
  },
  {
   "cell_type": "code",
   "execution_count": 22,
   "metadata": {},
   "outputs": [
    {
     "data": {
      "text/plain": [
       "{'negative': 0.436, 'neutral': 0.492, 'positive': 0.072}"
      ]
     },
     "execution_count": 22,
     "metadata": {},
     "output_type": "execute_result"
    }
   ],
   "source": [
    "sent_response['sentiment']"
   ]
  },
  {
   "cell_type": "code",
   "execution_count": 23,
   "metadata": {},
   "outputs": [
    {
     "name": "stdout",
     "output_type": "stream",
     "text": [
      "negative 0.436\n",
      "neutral 0.492\n",
      "positive 0.072\n"
     ]
    }
   ],
   "source": [
    "for i,j in sent_response['sentiment'].items():\n",
    "    print(i,j)\n"
   ]
  },
  {
   "cell_type": "code",
   "execution_count": 24,
   "metadata": {},
   "outputs": [
    {
     "data": {
      "text/plain": [
       "[('neutral', 0.492), ('negative', 0.436), ('positive', 0.072)]"
      ]
     },
     "execution_count": 24,
     "metadata": {},
     "output_type": "execute_result"
    }
   ],
   "source": [
    "sorted(sent_response['sentiment'].items(), key=lambda item: item[1],reverse=True)\n"
   ]
  },
  {
   "cell_type": "code",
   "execution_count": 25,
   "metadata": {},
   "outputs": [
    {
     "data": {
      "text/plain": [
       "'neutral'"
      ]
     },
     "execution_count": 25,
     "metadata": {},
     "output_type": "execute_result"
    }
   ],
   "source": [
    "sorted_list = sorted(sent_response['sentiment'].items(), key=lambda item: item[1],reverse=True)\n",
    "\n",
    "sorted_list[0][0]"
   ]
  },
  {
   "cell_type": "code",
   "execution_count": null,
   "metadata": {},
   "outputs": [],
   "source": []
  },
  {
   "cell_type": "markdown",
   "metadata": {},
   "source": [
    "### emotion detection"
   ]
  },
  {
   "cell_type": "code",
   "execution_count": 26,
   "metadata": {},
   "outputs": [],
   "source": [
    "para = \"I woke up feeling really excited this morning because it's my birthday today! My family has some fun activities planned for me, and I can't wait to see what they have in store. I received some early birthday wishes from friends and coworkers, which made me feel really appreciated. I also got a surprise gift from my best friend, which was so thoughtful. Overall, I'm feeling happy and grateful on this special day.\"\n",
    "\n",
    "emotion_response = paralleldots.emotion(para)"
   ]
  },
  {
   "cell_type": "code",
   "execution_count": 27,
   "metadata": {},
   "outputs": [
    {
     "data": {
      "text/plain": [
       "{'emotion': {'Fear': 0.358784193,\n",
       "  'Bored': 0.0100831223,\n",
       "  'Excited': 0.2308173569,\n",
       "  'Angry': 0.0116677636,\n",
       "  'Happy': 0.3798389587,\n",
       "  'Sad': 0.0088086055}}"
      ]
     },
     "execution_count": 27,
     "metadata": {},
     "output_type": "execute_result"
    }
   ],
   "source": [
    "emotion_response"
   ]
  },
  {
   "cell_type": "code",
   "execution_count": 28,
   "metadata": {},
   "outputs": [
    {
     "data": {
      "text/plain": [
       "[('Happy', 0.3798389587),\n",
       " ('Fear', 0.358784193),\n",
       " ('Excited', 0.2308173569),\n",
       " ('Angry', 0.0116677636),\n",
       " ('Bored', 0.0100831223),\n",
       " ('Sad', 0.0088086055)]"
      ]
     },
     "execution_count": 28,
     "metadata": {},
     "output_type": "execute_result"
    }
   ],
   "source": [
    "sorted(emotion_response['emotion'].items(), key=lambda item: item[1],reverse=True)\n"
   ]
  },
  {
   "cell_type": "code",
   "execution_count": 29,
   "metadata": {},
   "outputs": [
    {
     "data": {
      "text/plain": [
       "'Happy'"
      ]
     },
     "execution_count": 29,
     "metadata": {},
     "output_type": "execute_result"
    }
   ],
   "source": [
    "sorted_list = sorted(emotion_response['emotion'].items(), key=lambda item: item[1],reverse=True)\n",
    "\n",
    "sorted_list[0][0]"
   ]
  },
  {
   "cell_type": "code",
   "execution_count": null,
   "metadata": {},
   "outputs": [],
   "source": []
  },
  {
   "cell_type": "markdown",
   "metadata": {},
   "source": [
    "### Abuse Language Detection"
   ]
  },
  {
   "cell_type": "code",
   "execution_count": 30,
   "metadata": {},
   "outputs": [],
   "source": [
    "para = \"I will f**k you if you do not listen me\"\n",
    "abuse_response = paralleldots.abuse(para)"
   ]
  },
  {
   "cell_type": "code",
   "execution_count": 31,
   "metadata": {},
   "outputs": [
    {
     "data": {
      "text/plain": [
       "{'abusive': 0.9987211823, 'hate_speech': 0.0012403228, 'neither': 3.85144e-05}"
      ]
     },
     "execution_count": 31,
     "metadata": {},
     "output_type": "execute_result"
    }
   ],
   "source": [
    "abuse_response"
   ]
  },
  {
   "cell_type": "code",
   "execution_count": 32,
   "metadata": {},
   "outputs": [
    {
     "data": {
      "text/plain": [
       "[('abusive', 0.9987211823),\n",
       " ('hate_speech', 0.0012403228),\n",
       " ('neither', 3.85144e-05)]"
      ]
     },
     "execution_count": 32,
     "metadata": {},
     "output_type": "execute_result"
    }
   ],
   "source": [
    "sorted(abuse_response.items(), key=lambda item: item[1],reverse=True)\n"
   ]
  },
  {
   "cell_type": "code",
   "execution_count": 33,
   "metadata": {},
   "outputs": [
    {
     "data": {
      "text/plain": [
       "'abusive'"
      ]
     },
     "execution_count": 33,
     "metadata": {},
     "output_type": "execute_result"
    }
   ],
   "source": [
    "sorted_list = sorted(abuse_response.items(), key=lambda item: item[1],reverse=True)\n",
    "sorted_list[0][0]"
   ]
  },
  {
   "cell_type": "code",
   "execution_count": null,
   "metadata": {},
   "outputs": [],
   "source": []
  },
  {
   "cell_type": "code",
   "execution_count": 34,
   "metadata": {
    "scrolled": false
   },
   "outputs": [
    {
     "name": "stdout",
     "output_type": "stream",
     "text": [
      "\n",
      "    Hi! how would you like to proceed?\n",
      "    1. Not a member? Register\n",
      "    2. Already a member? Login\n",
      "    3. Want to Exit?\n",
      "    1\n",
      "enter name:\n",
      "Kousik\n",
      "enter email:\n",
      "kousik712417@gmail.com\n",
      "enter password:\n",
      "123456\n",
      "\n",
      "Registration Successful.\n",
      "Now you can login\n",
      "\n",
      "    Hi! how would you like to proceed?\n",
      "    1. Not a member? Register\n",
      "    2. Already a member? Login\n",
      "    3. Want to Exit?\n",
      "    2\n",
      "enter emailkousik712417@gmail.com\n",
      "enter password123456\n",
      "login successful\n",
      "\n",
      "    What type of NLP task you want to perform?\n",
      "    1. Named Entity Recognition\n",
      "    2. Sentiment Analysis\n",
      "    3. Emotion Detection\n",
      "    4. Abuse Language Detection\n",
      "    5. Logout\n",
      "    1\n",
      "enter the paragraph:\n",
      "Mark Zuckerberg is one of the founders of Facebook, a company from the United States\n",
      "****************************************************************************************************\n",
      " 'Mark Zuckerberg' is a name \n",
      " 'Facebook' is a group \n",
      " 'United States' is a place \n",
      "****************************************************************************************************\n",
      "\n",
      "    What type of NLP task you want to perform?\n",
      "    1. Named Entity Recognition\n",
      "    2. Sentiment Analysis\n",
      "    3. Emotion Detection\n",
      "    4. Abuse Language Detection\n",
      "    5. Logout\n",
      "    2\n",
      "enter the paragraph:\n",
      "I will see what can I do, if you do not listen me.\n",
      "****************************************************************************************************\n",
      "The sentiment of the Paragraph is: neutral\n",
      "****************************************************************************************************\n",
      "\n",
      "    What type of NLP task you want to perform?\n",
      "    1. Named Entity Recognition\n",
      "    2. Sentiment Analysis\n",
      "    3. Emotion Detection\n",
      "    4. Abuse Language Detection\n",
      "    5. Logout\n",
      "    3\n",
      "enter the paragraph:\n",
      "I woke up feeling really excited this morning because it's my birthday today! My family has some fun activities planned for me, and I can't wait to see what they have in store. I received some early birthday wishes from friends and coworkers, which made me feel really appreciated. I also got a surprise gift from my best friend, which was so thoughtful. Overall, I'm feeling happy and grateful on this special day.\n",
      "****************************************************************************************************\n",
      "The emotion of the Paragraph is: Happy\n",
      "****************************************************************************************************\n",
      "\n",
      "    What type of NLP task you want to perform?\n",
      "    1. Named Entity Recognition\n",
      "    2. Sentiment Analysis\n",
      "    3. Emotion Detection\n",
      "    4. Abuse Language Detection\n",
      "    5. Logout\n",
      "    4\n",
      "enter the paragraph:\n",
      "you will be murdered!\n",
      "****************************************************************************************************\n",
      "This Paragraph contains abusive language.\n",
      "****************************************************************************************************\n",
      "\n",
      "    What type of NLP task you want to perform?\n",
      "    1. Named Entity Recognition\n",
      "    2. Sentiment Analysis\n",
      "    3. Emotion Detection\n",
      "    4. Abuse Language Detection\n",
      "    5. Logout\n",
      "    5\n"
     ]
    }
   ],
   "source": [
    "import paralleldots\n",
    "\n",
    "# Setting the API key\n",
    "paralleldots.set_api_key('9jshsaRrZSJnQYfy7uZrBG7s2cz5XjjU3n5vZp6uB7I')\n",
    "\n",
    "\n",
    "class NLPApp:\n",
    "\n",
    "  def __init__(self):\n",
    "\n",
    "    self.__database = {}\n",
    "    self.__first_menu()\n",
    "\n",
    "  def __first_menu(self):\n",
    "\n",
    "    first_input = input(\"\"\"\n",
    "    Hi! how would you like to proceed?\n",
    "    1. Not a member? Register\n",
    "    2. Already a member? Login\n",
    "    3. Want to Exit?\n",
    "    \"\"\")\n",
    "\n",
    "    if first_input == '1':\n",
    "      self.__register()\n",
    "    elif first_input == '2':\n",
    "      self.__login()\n",
    "    else:\n",
    "      exit()\n",
    "\n",
    "  def __second_menu(self):\n",
    "\n",
    "    second_input = input(\"\"\"\n",
    "    What type of NLP task you want to perform?\n",
    "    1. Named Entity Recognition\n",
    "    2. Sentiment Analysis\n",
    "    3. Emotion Detection\n",
    "    4. Abuse Language Detection\n",
    "    5. Logout\n",
    "    \"\"\")\n",
    "    \n",
    "    if second_input == '1':\n",
    "      self.__ner()\n",
    "    elif second_input == '2':\n",
    "      self.__sentiment_analysis()\n",
    "    \n",
    "    elif second_input == '3':\n",
    "      self.__emotion_detection()\n",
    "    elif second_input == '4':\n",
    "      self.__abuse_language_detection()\n",
    "    else:\n",
    "      exit()\n",
    "    \n",
    "    \n",
    "  def __register(self):\n",
    "    name = input('enter name:\\n')\n",
    "    email = input('enter email:\\n')\n",
    "    if email in self.__database:\n",
    "        print('\\nemail already exists.\\nyou can login')\n",
    "        self.__first_menu()\n",
    "        \n",
    "    password = input('enter password:\\n')\n",
    "\n",
    "    self.__database[email] = [name,password]\n",
    "    print('\\nRegistration Successful.\\nNow you can login')\n",
    "    \n",
    "    self.__first_menu()\n",
    "\n",
    "\n",
    "  def __login(self):\n",
    "    \n",
    "    email = input('enter email')\n",
    "    password = input('enter password')\n",
    "\n",
    "    if email in self.__database:\n",
    "      if self.__database[email][1] == password:\n",
    "        print('login successful')\n",
    "        self.__second_menu()\n",
    "      else:\n",
    "        print('wrong password.Try again')\n",
    "        self.__login()\n",
    "    else:\n",
    "      print('This email is not registered')\n",
    "      self.__first_menu()\n",
    "    \n",
    "    \n",
    "  def __ner(self):\n",
    "    para = input('enter the paragraph:\\n')\n",
    "\n",
    "    ner_response = paralleldots.ner(para)\n",
    "    \n",
    "    print('*'*100)\n",
    "    for i in ner_response['entities']:\n",
    "        print(\" '{}' is a {} \".format(i['name'],i['category']))\n",
    "    print('*'*100)\n",
    "    \n",
    "    self.__second_menu()\n",
    "    \n",
    "    \n",
    "  def __sentiment_analysis(self):\n",
    "    para = input('enter the paragraph:\\n')\n",
    "\n",
    "    sent_response = paralleldots.sentiment(para)\n",
    "    \n",
    "    sorted(sent_response['sentiment'].items(), key=lambda item: item[1],reverse=True)\n",
    "    sorted_list = sorted(sent_response['sentiment'].items(), key=lambda item: item[1],reverse=True)\n",
    "    \n",
    "    print('*'*100)\n",
    "    print('The sentiment of the Paragraph is:',sorted_list[0][0])\n",
    "    print('*'*100)\n",
    "    \n",
    "    self.__second_menu()\n",
    "    \n",
    "    \n",
    "  def __emotion_detection(self):\n",
    "    para = input('enter the paragraph:\\n')\n",
    "\n",
    "    emotion_response = paralleldots.emotion(para)\n",
    "    \n",
    "    sorted_list = sorted(emotion_response['emotion'].items(), key=lambda item: item[1],reverse=True)\n",
    "    \n",
    "    print('*'*100)\n",
    "    print('The emotion of the Paragraph is:',sorted_list[0][0])\n",
    "    print('*'*100)\n",
    "    \n",
    "    self.__second_menu()\n",
    "    \n",
    "    \n",
    "  def __abuse_language_detection(self):\n",
    "    para = input('enter the paragraph:\\n')\n",
    "\n",
    "    abuse_response = paralleldots.abuse(para)\n",
    "    sorted_list = sorted(abuse_response.items(), key=lambda item: item[1],reverse=True)\n",
    "    \n",
    "    print('*'*100)\n",
    "    print('This Paragraph contains {} language.'.format(sorted_list[0][0]))\n",
    "    print('*'*100)\n",
    "    \n",
    "    self.__second_menu()\n",
    "    \n",
    "\n",
    "obj = NLPApp()"
   ]
  },
  {
   "cell_type": "code",
   "execution_count": null,
   "metadata": {},
   "outputs": [],
   "source": []
  }
 ],
 "metadata": {
  "colab": {
   "provenance": []
  },
  "kernelspec": {
   "display_name": "Python 3 (ipykernel)",
   "language": "python",
   "name": "python3"
  },
  "language_info": {
   "codemirror_mode": {
    "name": "ipython",
    "version": 3
   },
   "file_extension": ".py",
   "mimetype": "text/x-python",
   "name": "python",
   "nbconvert_exporter": "python",
   "pygments_lexer": "ipython3",
   "version": "3.9.16"
  }
 },
 "nbformat": 4,
 "nbformat_minor": 1
}
